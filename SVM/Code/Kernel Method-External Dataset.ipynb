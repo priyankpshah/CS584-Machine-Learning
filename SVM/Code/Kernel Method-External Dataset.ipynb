{
 "cells": [
  {
   "cell_type": "markdown",
   "metadata": {},
   "source": [
    "# Kernel SVM using Iris Dataset"
   ]
  },
  {
   "cell_type": "code",
   "execution_count": 2,
   "metadata": {
    "collapsed": false
   },
   "outputs": [],
   "source": [
    "import numpy as np\n",
    "import math\n",
    "import matplotlib.pyplot as plt\n",
    "import matplotlib.pyplot\n",
    "import cvxopt\n",
    "from cvxopt import solvers,matrix\n",
    "from sklearn.svm import SVC\n",
    "import csv\n",
    "\n",
    "def lin_Data(size, feature):\n",
    "    temp = []\n",
    "    clabel = []\n",
    "    data = []\n",
    "    testdata = []\n",
    "    test_lab = []\n",
    "    data = []\n",
    "#  Iris DataSet Read and classifies \n",
    "    readr = csv.reader(open('iris.data.txt','rU'))\n",
    "    for i in readr:\n",
    "        temp.append(i)\n",
    "    \n",
    "    np.random.shuffle(temp)\n",
    "    kfold = len(temp)/10\n",
    "    for i in range(0,len(temp)-kfold):\n",
    "        if temp[i][4] == 'Iris-setosa':\n",
    "            data.append((temp[i][0],temp[i][1]))\n",
    "            clabel.append([-1.0])\n",
    "        elif temp[i][4] == 'Iris-versicolor':\n",
    "            data.append((temp[i][0],temp[i][1]))\n",
    "            clabel.append([1.0])\n",
    "# Training and Testing of DataSet \n",
    "    for i in range(len(temp)-kfold,len(temp)):\n",
    "        if temp[i][4] == 'Iris-setosa':\n",
    "            testdata.append((temp[i][0],temp[i][1]))\n",
    "            test_lab.append([-1.0])\n",
    "        elif temp[i][4] == 'Iris-versicolor':\n",
    "            testdata.append((temp[i][0],temp[i][1]))\n",
    "            test_lab.append([1.0])\n",
    "           \n",
    "    data = np.array(data,dtype='float32')\n",
    "    testdata = np.array(testdata,dtype='float32')\n",
    "    test_lab = np.array(test_lab,dtype='float32')\n",
    "    clabel = np.array(clabel,dtype='float32')\n",
    "#  Graph Plot of Iris Dataset       \n",
    "    xp = []\n",
    "    xn = []\n",
    "    xpo = []\n",
    "    ypo = []\n",
    "    xne = []\n",
    "    yne = []\n",
    "    for i in range(0,clabel.shape[0]):\n",
    "        if clabel[i]>0:\n",
    "            xp.append(data[i])\n",
    "        else:\n",
    "            xn.append(data[i])\n",
    "    for j in range(0,len(xp)-1):\n",
    "        xpo.append(xp[j][0])\n",
    "        ypo.append(xp[j][1])\n",
    "    for k in range(0,len(xn)-1):\n",
    "        xne.append(xn[k][0])\n",
    "        yne.append(xn[k][1])\n",
    "    plt.plot(xne,yne,'ro')\n",
    "    plt.plot(xpo,ypo,'bo'),\n",
    "    plt.xlabel(\"X\")\n",
    "    plt.ylabel(\"Y\")\n",
    "    plt.show()\n",
    "    \n",
    "    return data,clabel,testdata,test_lab\n",
    "size = 200\n",
    "feature = 2\n",
    "data, clabel,testdata,test_lab = lin_Data(size,feature)\n"
   ]
  },
  {
   "cell_type": "code",
   "execution_count": 6,
   "metadata": {
    "collapsed": false
   },
   "outputs": [
    {
     "name": "stdout",
     "output_type": "stream",
     "text": [
      "(90, 1)\n",
      "     pcost       dcost       gap    pres   dres\n",
      " 0: -6.7500e+01 -9.0000e+01  4e+02  4e+00  2e-15\n",
      " 1: -3.6650e+01 -7.3725e+01  4e+01  1e-15  1e-15\n",
      " 2: -4.3268e+01 -4.5287e+01  2e+00  2e-16  1e-15\n",
      " 3: -4.4983e+01 -4.5003e+01  2e-02  4e-16  9e-16\n",
      " 4: -4.5000e+01 -4.5000e+01  2e-04  3e-16  9e-16\n",
      " 5: -4.5000e+01 -4.5000e+01  2e-06  2e-16  1e-15\n",
      "Optimal solution found.\n"
     ]
    }
   ],
   "source": [
    "def kernel_comp(x,y,degree):\n",
    "    \n",
    "    # Gaussian Kernel    \n",
    "    gamma = 0.1\n",
    "    k = np.exp(-1/gamma*(np.dot((x-y),((x-y).T))))\n",
    "    \n",
    "    # Polynomial Kernel\n",
    "    #  k= ((np.dot(x,y.T )+1)**degree)\n",
    "    return k\n",
    "    \n",
    "      \n",
    "def alpha_solver(x, y):\n",
    "    W = 0\n",
    "    W0 = 0\n",
    "    degree = 2   \n",
    "    print y.shape\n",
    "    k = kernel_comp(np.array(x),np.array(x),degree)\n",
    "    var = x.shape[0]\n",
    "    p = matrix(np.ndarray.tolist(np.dot(y,y.T) * k))\n",
    "    q = cvxopt.base.matrix([-1.0] * var)\n",
    "    G0 = np.zeros((var, var), float)\n",
    "    np.fill_diagonal(G0, -1.0)\n",
    "    G1 = np.zeros((var, var), float)\n",
    "    np.fill_diagonal(G1, 1.0)\n",
    "    g = matrix(np.vstack((G0,G1)))\n",
    "    h0 = matrix([0.0] * var)\n",
    "    h1 = matrix([0.5]*var)\n",
    "    h= matrix(np.vstack((h0,h1)))\n",
    "    a = y.T\n",
    "    a = np.reshape(y,(1,y.shape[0]))\n",
    "    a = np.asarray(a)\n",
    "    a = a.astype('d')\n",
    "    a = matrix(a)\n",
    "    b = matrix(0.0)\n",
    "\n",
    "    Ld = solvers.qp(p,q,g,h,a,b)['x']\n",
    "    alpha = matrix(Ld)\n",
    "\n",
    "    #print alpha_val\n",
    "    support_vector = []\n",
    "    for i in range(len(alpha)):\n",
    "        if alpha[i] > 0:\n",
    "            support_vector.append(x[i])\n",
    "    support_vector = np.matrix(support_vector)\n",
    "    #print len(support_vector1)\n",
    "    for j in range(var):\n",
    "        W += (alpha[j] * y[j] * x[j])\n",
    "\n",
    "    for k in range(len(support_vector)):\n",
    "        W0 += (y[k] - np.dot(W,x[k]))\n",
    "    #print W, W0\n",
    "    W0 = W0 / len(support_vector)\n",
    "    \n",
    "    return W0, W, np.array(support_vector)\n",
    "\n",
    "\n",
    "w0, w, s_vector = alpha_solver(data,clabel)\n"
   ]
  },
  {
   "cell_type": "code",
   "execution_count": 7,
   "metadata": {
    "collapsed": false
   },
   "outputs": [
    {
     "name": "stderr",
     "output_type": "stream",
     "text": [
      "/usr/lib/pymodules/python2.7/matplotlib/collections.py:548: FutureWarning: elementwise comparison failed; returning scalar instead, but in the future will perform elementwise comparison\n",
      "  if self._edgecolors == 'face':\n"
     ]
    }
   ],
   "source": [
    "def predict_class(w0,w,testdata,test_lab,s_vector):\n",
    "    predict_label = []\n",
    "    true = 0\n",
    "    slack = 0.978\n",
    "    for i in range(0,testdata.shape[0]):\n",
    "        if(w0 + np.dot(w.T,testdata[i].T))> 0:\n",
    "            predict_label.append([1.0])\n",
    "        else:\n",
    "            predict_label.append([-1.0])\n",
    "    predict_label = np.array(predict_label)\n",
    "#     print predict_label, test_lab\n",
    "    for i in range(0,predict_label.shape[0]):\n",
    "        if (predict_label[i]==test_lab[i]):\n",
    "            true = true+1\n",
    "    accuracy = float(true)/len(test_lab)\n",
    "    xp = []\n",
    "    xn = []\n",
    "    xpo = []\n",
    "    ypo = []\n",
    "    xne = []\n",
    "    yne = []\n",
    "    \n",
    "    for i in range(0,predict_label.shape[0]):\n",
    "        if predict_label[i]>0:\n",
    "            xp.append(testdata[i])\n",
    "        else:\n",
    "            xn.append(testdata[i])\n",
    "    \n",
    "    x_min, x_max = data[:, 0].min() - 1, data[:, 0].max() + 1\n",
    "    y_min, y_max = data[:, 1].min() - 1, data[:, 1].max() + 1\n",
    "    xx, yy = np.meshgrid(np.arange(x_min, x_max, 0.2),\n",
    "                         np.arange(y_min, y_max, 0.2))\n",
    "#     Polynomial Kernel\n",
    "#     clf = SVC(kernel='poly',degree=1)\n",
    "\n",
    "#  Gaussian Kernel\n",
    "    clf = SVC(kernel='rbf')\n",
    "\n",
    "    \n",
    "    for j in range(0,len(xp)-1):\n",
    "        xpo.append(xp[j][0])\n",
    "        ypo.append(xp[j][1])\n",
    "    for k in range(0,len(xn)-1):\n",
    "        xne.append(xn[k][0])\n",
    "        yne.append(xn[k][1])\n",
    "    spo = []\n",
    "    sne= []\n",
    "    \n",
    "    for s in range(0,len(s_vector)-1):\n",
    "        spo.append(s_vector[s][0])\n",
    "        sne.append(s_vector[s][1])\n",
    "#  Result Graph Plot     \n",
    "    clf.fit(testdata,test_lab.ravel())\n",
    "    Z = clf.predict(np.c_[xx.ravel(), yy.ravel()])\n",
    "    Z = Z.reshape(xx.shape)\n",
    "    \n",
    "    plt.contourf(xx, yy, Z, cmap=plt.cm.Paired, alpha=0.5)\n",
    "    plt.plot(xne,yne,'ro')\n",
    "    plt.plot(xpo,ypo,'bo')\n",
    "    plt.scatter(spo,sne,c='yellow',marker='D',s=20)\n",
    "\n",
    "    plt.xlim(xx.min(), xx.max())\n",
    "    plt.ylim(yy.min(), yy.max())\n",
    "    plt.title(\"Gaussian Kernel Output\")\n",
    "    plt.xlabel(\"X\")\n",
    "    plt.ylabel(\"Y\")\n",
    "    plt.show()\n",
    "    \n",
    "\n",
    "    return predict_label\n",
    "\n",
    "predict_label = predict_class(w0,w,testdata,test_lab,s_vector)\n",
    "    "
   ]
  },
  {
   "cell_type": "code",
   "execution_count": 8,
   "metadata": {
    "collapsed": false
   },
   "outputs": [
    {
     "name": "stdout",
     "output_type": "stream",
     "text": [
      "[[5 0]\n",
      " [1 4]]\n"
     ]
    }
   ],
   "source": [
    "def confusion_matrix(testclass,ypredict):\n",
    "    \n",
    "    temp = [-1,1]\n",
    "    cm= []\n",
    "    for i in temp:\n",
    "        tmp =[0]*len(temp)\n",
    "        for j in range(len(testclass)):\n",
    "            if testclass[j] == i and testclass[j] == ypredict[j]:\n",
    "                tmp[temp.index(i)] += 1\n",
    "            elif testclass[j] == i and testclass[j] != ypredict[j]:\n",
    "                tmp[temp.index(ypredict[j])] += 1\n",
    "        cm.append(tmp)\n",
    "    cm = np.array(cm)\n",
    "    print cm\n",
    "    return cm\n",
    "\n",
    "    \n",
    "cm = confusion_matrix(test_lab,predict_label)"
   ]
  },
  {
   "cell_type": "code",
   "execution_count": 9,
   "metadata": {
    "collapsed": false
   },
   "outputs": [
    {
     "name": "stdout",
     "output_type": "stream",
     "text": [
      " Confusion Matrix:[5 0]\n",
      "\t\t  [1 4]\n",
      "         Precesion:   Recall:    F-1 Measures\n",
      "Class-1: 0.833       1.0         0.909\n",
      "Class 1: 1.0        0.8        0.889\n",
      "\n",
      "Accuracy: 90.0%\n"
     ]
    }
   ],
   "source": [
    "def precisionCall(cm,testclass):\n",
    "    precesion = np.zeros(2)\n",
    "    recall = np.zeros(2)\n",
    "    f1measure = np.zeros(2)\n",
    "    accuracy = 0\n",
    "    for i in range(0,2):\n",
    "        for j in range(0,2):\n",
    "            precesion[i] += cm[j][i]\n",
    "            recall[i] += cm[i][j]\n",
    "            if(i==j):\n",
    "                accuracy = accuracy + cm[i][j]\n",
    "        precesion[i] = cm[i][i]/precesion[i]\n",
    "        recall[i] = cm[i][i]/recall[i]\n",
    "        f1measure[i] = ((2*precesion[i]*recall[i])/(precesion[i]+recall[i]))\n",
    "    accuracy = float(accuracy)/testclass.shape[0]\n",
    "    print \" Confusion Matrix:\"+ str(cm[0])\n",
    "    print \"\\t\\t  \"+ str(cm[1])\n",
    "    print \"         Precesion:   Recall:    F-1 Measures\"\n",
    "    print \"Class-1: \" + str(round(precesion[0],3))+\"       \"+str(round(recall[0],3))+\"         \"+str(round(f1measure[0],3))\n",
    "    print \"Class 1: \" + str(round(precesion[1],3))+\"        \"+str(round(recall[1],3))+\"        \"+str(round(f1measure[1],3))\n",
    "    print \"\\nAccuracy: \"+str(round(accuracy,3)*100)+\"%\"\n",
    "    return accuracy,precesion,recall,f1measure\n",
    "\n",
    "\n",
    "    \n",
    "accuracy,precesion,recall,f1measure = precisionCall(cm,test_lab)"
   ]
  },
  {
   "cell_type": "code",
   "execution_count": null,
   "metadata": {
    "collapsed": true
   },
   "outputs": [],
   "source": []
  },
  {
   "cell_type": "code",
   "execution_count": null,
   "metadata": {
    "collapsed": true
   },
   "outputs": [],
   "source": []
  },
  {
   "cell_type": "code",
   "execution_count": null,
   "metadata": {
    "collapsed": true
   },
   "outputs": [],
   "source": []
  }
 ],
 "metadata": {
  "kernelspec": {
   "display_name": "Python 2",
   "language": "python",
   "name": "python2"
  },
  "language_info": {
   "codemirror_mode": {
    "name": "ipython",
    "version": 2
   },
   "file_extension": ".py",
   "mimetype": "text/x-python",
   "name": "python",
   "nbconvert_exporter": "python",
   "pygments_lexer": "ipython2",
   "version": "2.7.6"
  }
 },
 "nbformat": 4,
 "nbformat_minor": 0
}
