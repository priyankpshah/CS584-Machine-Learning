{
 "cells": [
  {
   "cell_type": "markdown",
   "metadata": {},
   "source": [
    "# Kernal Based"
   ]
  },
  {
   "cell_type": "code",
   "execution_count": 42,
   "metadata": {
    "collapsed": false
   },
   "outputs": [
    {
     "name": "stdout",
     "output_type": "stream",
     "text": [
      "(200, 2)\n"
     ]
    }
   ],
   "source": [
    "import numpy as np\n",
    "import math\n",
    "import matplotlib.pyplot as plt\n",
    "import matplotlib.pyplot\n",
    "import cvxopt\n",
    "from cvxopt import solvers,matrix\n",
    "from sklearn.svm import SVC\n",
    "\n",
    "def lin_Data(size, feature):\n",
    "    w0 = np.zeros(1)\n",
    "    w = 0.5 * np.ones(shape=(feature,1))\n",
    "    std_dev = 0.5\n",
    "    data = []\n",
    "    ex = size/2\n",
    "    np.random.seed(4736)\n",
    "# Saperable DataSet\n",
    "    for i in range(0,size):\n",
    "        (data.append (np.asarray(np.random.uniform(low=-1,high=1,size=feature),dtype='float32')))\n",
    "\n",
    "# Non-Saperable DataSet\n",
    "#   data = np.append((np.random.randn((size/2),feature)+std_dev),(np.random.randn((size/2),feature)-std_dev),axis =0)\n",
    "    \n",
    "    data = np.array(data)\n",
    "    print data.shape\n",
    "    np.random.shuffle(data)\n",
    "    clabel = []\n",
    "# Class value indentification\n",
    "    for i in range(0,data.shape[0]):\n",
    "        if(w0 + np.dot(w.T,data[i].T))> 0:\n",
    "            clabel.append([1.0])\n",
    "        else:\n",
    "            clabel.append([-1.0])\n",
    "    clabel = np.array(clabel)\n",
    "#  Cross validation \n",
    "    Kfold = data.shape[0]/10\n",
    "    testdata = data[-Kfold:,:]\n",
    "    data = data[0:-Kfold,:]\n",
    "    test_lab = clabel[-Kfold:,:]\n",
    "    clabel = clabel[0:-Kfold,:]\n",
    "    \n",
    "#  Graph Plotting\n",
    "    xp = []\n",
    "    xn = []\n",
    "    xpo = []\n",
    "    ypo = []\n",
    "    xne = []\n",
    "    yne = []\n",
    "    for i in range(0,clabel.shape[0]):\n",
    "        if clabel[i]>0:\n",
    "            xp.append(data[i])\n",
    "        else:\n",
    "            xn.append(data[i])\n",
    "    for j in range(0,len(xp)-1):\n",
    "        xpo.append(xp[j][0])\n",
    "        ypo.append(xp[j][1])\n",
    "    for k in range(0,len(xn)-1):\n",
    "        xne.append(xn[k][0])\n",
    "        yne.append(xn[k][1])\n",
    "    plt.plot(xne,yne,'ro')\n",
    "    plt.plot(xpo,ypo,'bo')\n",
    "    plt.title(\"Dataset\")\n",
    "    plt.xlabel(\"X\")\n",
    "    plt.ylabel(\"Y\")\n",
    "    plt.show()\n",
    "    return data,clabel,testdata,test_lab\n",
    "size = 200\n",
    "feature = 2\n",
    "data, clabel,testdata,test_lab = lin_Data(size,feature)\n"
   ]
  },
  {
   "cell_type": "code",
   "execution_count": null,
   "metadata": {
    "collapsed": true
   },
   "outputs": [],
   "source": []
  },
  {
   "cell_type": "code",
   "execution_count": 43,
   "metadata": {
    "collapsed": false
   },
   "outputs": [
    {
     "name": "stdout",
     "output_type": "stream",
     "text": [
      "     pcost       dcost       gap    pres   dres\n",
      " 0: -2.0836e-03 -9.0006e+01  9e+01  3e-17  3e-16\n",
      " 1: -2.7158e-03 -9.0367e-01  9e-01  3e-16  1e-15\n",
      " 2: -2.7777e-03 -1.1808e-02  9e-03  2e-16  4e-16\n",
      " 3: -2.7778e-03 -2.8681e-03  9e-05  2e-16  4e-16\n",
      " 4: -2.7778e-03 -2.7787e-03  9e-07  2e-16  3e-16\n",
      " 5: -2.7778e-03 -2.7778e-03  9e-09  2e-16  3e-16\n",
      "Optimal solution found.\n"
     ]
    }
   ],
   "source": [
    "def kernel_comp(x,y,degree):\n",
    "    \n",
    "# Gaussian Kernel    \n",
    "    gamma = 0.1\n",
    "    k = np.exp(-1/gamma*(np.dot((x-y),((x-y).T))))\n",
    "    \n",
    "#     Polynomial Kernel\n",
    "#     k= ((np.dot(x,y.T )+1)**2)\n",
    "    return k\n",
    "    \n",
    "      \n",
    "def alpha_solver(x, y):\n",
    "    W = 0\n",
    "    W0 = 0\n",
    "    degree = 2\n",
    "    k = kernel_comp(np.array(x),np.array(x),degree)\n",
    "    \n",
    "    var,xfeature = x.shape\n",
    "    p = matrix(np.ndarray.tolist(np.dot(y.T,y) * k))\n",
    "    q = cvxopt.base.matrix([-1.0] * var)\n",
    "    G0 = np.zeros((var, var), float)\n",
    "    np.fill_diagonal(G0, -1.0)\n",
    "    G1 = np.zeros((var, var), float)\n",
    "    np.fill_diagonal(G1, 1.0)\n",
    "    g = matrix(np.vstack((G0,G1)))\n",
    "    h0 = matrix([0.0] * var)\n",
    "    h1 = matrix([0.5]*var)\n",
    "    h= matrix(np.vstack((h0,h1)))\n",
    "    a = matrix(np.ndarray.tolist(y))\n",
    "    b = matrix(0.0)\n",
    "    Ld = solvers.qp(p,q,g,h,a,b)['x']\n",
    "    alpha = matrix(Ld)\n",
    "\n",
    "    #print alpha_val\n",
    "    support_vector = []\n",
    "    for i in range(len(alpha)):\n",
    "        if alpha[i] > 0:\n",
    "            support_vector.append(x[i])\n",
    "    support_vector = np.matrix(support_vector)\n",
    "    #print len(support_vector1)\n",
    "    for j in range(var):\n",
    "        W += (alpha[j] * y[j] * x[j])\n",
    "\n",
    "    for k in range(len(support_vector)):\n",
    "        W0 += (y[k] - np.dot(W,x[k]))\n",
    "    #print W, W0\n",
    "    W0 = W0 / len(support_vector)\n",
    "    \n",
    "    return W0, W, np.array(support_vector)\n",
    "    \n",
    "w0, w, s_vector = alpha_solver(data,clabel)\n"
   ]
  },
  {
   "cell_type": "code",
   "execution_count": 44,
   "metadata": {
    "collapsed": false
   },
   "outputs": [],
   "source": [
    "def predict_class(w0,w,data,clabel,testdata,test_lab,s_vector):\n",
    "    predict_label = []\n",
    "    true = 0\n",
    "    slack = 0.978\n",
    "#     Class value prediction\n",
    "    for i in range(0,testdata.shape[0]):\n",
    "        if(w0 + np.dot(w.T,testdata[i].T))> 0:\n",
    "            predict_label.append([1.0])\n",
    "        else:\n",
    "            predict_label.append([-1.0])\n",
    "    predict_label = np.array(predict_label)\n",
    "#     print predict_label, test_lab\n",
    "    for i in range(0,predict_label.shape[0]):\n",
    "        if (predict_label[i]==test_lab[i]):\n",
    "            true = true+1\n",
    "    accuracy = float(true)/len(test_lab)\n",
    "    xp = []\n",
    "    xn = []\n",
    "    xpo = []\n",
    "    ypo = []\n",
    "    xne = []\n",
    "    yne = []\n",
    "    \n",
    "    for i in range(0,predict_label.shape[0]):\n",
    "        if predict_label[i]>0:\n",
    "            xp.append(testdata[i])\n",
    "        else:\n",
    "            xn.append(testdata[i])\n",
    "    \n",
    "    x_min, x_max = data[:, 0].min() - 1, data[:, 0].max() + 1\n",
    "    y_min, y_max = data[:, 1].min() - 1, data[:, 1].max() + 1\n",
    "    xx, yy = np.meshgrid(np.arange(x_min, x_max, 0.2),\n",
    "                         np.arange(y_min, y_max, 0.2))\n",
    "#     Polynomial Kernel\n",
    "#     clf = SVC(kernel='poly',degree=1)\n",
    "\n",
    "#  Gaussian Kernel\n",
    "    clf = SVC(kernel='rbf')\n",
    "\n",
    "    \n",
    "    for j in range(0,len(xp)-1):\n",
    "        xpo.append(xp[j][0])\n",
    "        ypo.append(xp[j][1])\n",
    "    for k in range(0,len(xn)-1):\n",
    "        xne.append(xn[k][0])\n",
    "        yne.append(xn[k][1])\n",
    "    spo = []\n",
    "    sne= []\n",
    "    \n",
    "    for s in range(0,len(s_vector)-1):\n",
    "        spo.append(s_vector[s][0])\n",
    "        sne.append(s_vector[s][1])\n",
    "#  Result Graph Plot     \n",
    "    clf.fit(testdata,test_lab.ravel())\n",
    "    Z = clf.predict(np.c_[xx.ravel(), yy.ravel()])\n",
    "    Z = Z.reshape(xx.shape)\n",
    "    \n",
    "    plt.contourf(xx, yy, Z, cmap=plt.cm.Paired, alpha=0.5)\n",
    "    plt.plot(xne,yne,'ro')\n",
    "    plt.plot(xpo,ypo,'bo')\n",
    "    plt.scatter(spo,sne,c='yellow',marker='D',s=20)\n",
    "\n",
    "    plt.xlim(xx.min(), xx.max())\n",
    "    plt.ylim(yy.min(), yy.max())\n",
    "    plt.title(\"Gaussian Kernel Output\")\n",
    "    plt.xlabel(\"X\")\n",
    "    plt.ylabel(\"Y\")\n",
    "    plt.show()\n",
    "    \n",
    "\n",
    "    return predict_label\n",
    "\n",
    "predict_label = predict_class(w0,w,data,clabel,testdata,test_lab,s_vector)\n",
    "    "
   ]
  },
  {
   "cell_type": "code",
   "execution_count": 45,
   "metadata": {
    "collapsed": false
   },
   "outputs": [
    {
     "name": "stdout",
     "output_type": "stream",
     "text": [
      "[[ 8  0]\n",
      " [ 0 12]]\n"
     ]
    }
   ],
   "source": [
    "def confusion_matrix(testclass,ypredict):\n",
    "    \n",
    "    temp = [-1,1]\n",
    "    cm= []\n",
    "    for i in temp:\n",
    "        tmp =[0]*len(temp)\n",
    "        for j in range(len(testclass)):\n",
    "            if testclass[j] == i and testclass[j] == ypredict[j]:\n",
    "                tmp[temp.index(i)] += 1\n",
    "            elif testclass[j] == i and testclass[j] != ypredict[j]:\n",
    "                tmp[temp.index(ypredict[j])] += 1\n",
    "        cm.append(tmp)\n",
    "    cm = np.array(cm)\n",
    "    print cm\n",
    "    return cm\n",
    "\n",
    "    \n",
    "cm = confusion_matrix(test_lab,predict_label)"
   ]
  },
  {
   "cell_type": "code",
   "execution_count": 46,
   "metadata": {
    "collapsed": false
   },
   "outputs": [
    {
     "name": "stdout",
     "output_type": "stream",
     "text": [
      " Confusion Matrix:[8 0]\n",
      "\t\t  [ 0 12]\n",
      "         Precesion:   Recall:    F-1 Measures\n",
      "Class-1: 1.0       1.0         1.0\n",
      "Class 1: 1.0        1.0        1.0\n",
      "\n",
      "Accuracy: 100.0%\n"
     ]
    }
   ],
   "source": [
    "def precisionCall(cm,testclass):\n",
    "    precesion = np.zeros(2)\n",
    "    recall = np.zeros(2)\n",
    "    f1measure = np.zeros(2)\n",
    "    accuracy = 0\n",
    "    for i in range(0,2):\n",
    "        for j in range(0,2):\n",
    "            precesion[i] += cm[j][i]\n",
    "            recall[i] += cm[i][j]\n",
    "            if(i==j):\n",
    "                accuracy = accuracy + cm[i][j]\n",
    "        precesion[i] = cm[i][i]/precesion[i]\n",
    "        recall[i] = cm[i][i]/recall[i]\n",
    "        f1measure[i] = ((2*precesion[i]*recall[i])/(precesion[i]+recall[i]))\n",
    "    accuracy = float(accuracy)/testclass.shape[0]\n",
    "    print \" Confusion Matrix:\"+ str(cm[0])\n",
    "    print \"\\t\\t  \"+ str(cm[1])\n",
    "    print \"         Precesion:   Recall:    F-1 Measures\"\n",
    "    print \"Class-1: \" + str(round(precesion[0],3))+\"       \"+str(round(recall[0],3))+\"         \"+str(round(f1measure[0],3))\n",
    "    print \"Class 1: \" + str(round(precesion[1],3))+\"        \"+str(round(recall[1],3))+\"        \"+str(round(f1measure[1],3))\n",
    "    print \"\\nAccuracy: \"+str(round(accuracy,3)*100)+\"%\"\n",
    "    return accuracy,precesion,recall,f1measure\n",
    "\n",
    "\n",
    "    \n",
    "accuracy,precesion,recall,f1measure = precisionCall(cm,test_lab)"
   ]
  },
  {
   "cell_type": "code",
   "execution_count": null,
   "metadata": {
    "collapsed": true
   },
   "outputs": [],
   "source": []
  }
 ],
 "metadata": {
  "kernelspec": {
   "display_name": "Python 2",
   "language": "python",
   "name": "python2"
  },
  "language_info": {
   "codemirror_mode": {
    "name": "ipython",
    "version": 2
   },
   "file_extension": ".py",
   "mimetype": "text/x-python",
   "name": "python",
   "nbconvert_exporter": "python",
   "pygments_lexer": "ipython2",
   "version": "2.7.6"
  }
 },
 "nbformat": 4,
 "nbformat_minor": 0
}
