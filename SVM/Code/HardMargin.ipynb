{
 "cells": [
  {
   "cell_type": "markdown",
   "metadata": {},
   "source": [
    "# HardLine Sap Dataset"
   ]
  },
  {
   "cell_type": "code",
   "execution_count": 21,
   "metadata": {
    "collapsed": false
   },
   "outputs": [],
   "source": [
    "import numpy as np\n",
    "import math\n",
    "import matplotlib.pyplot as plt\n",
    "import matplotlib.pyplot\n",
    "import cvxopt\n",
    "from cvxopt import solvers,matrix\n",
    "from sklearn.svm import SVC\n",
    "\n",
    "def lin_Data(size, feature):\n",
    "    w0 = np.zeros(1)\n",
    "    w = 0.5 * np.ones(shape=(feature,1))\n",
    "    std_dev = 0\n",
    "    data = []\n",
    "    ex = size/2\n",
    "\n",
    "# Saperable DataSet\n",
    "    for i in range(0,size):\n",
    "        (data.append (np.asarray(np.random.uniform(low=-1,high=1,size=feature),dtype='float32')))\n",
    "\n",
    "# Non-Saperable DataSet\n",
    "#     data = np.append((np.random.randn((size/2),feature)+std_dev),(np.random.randn((size/2),feature)-std_dev),axis =0)\n",
    "    \n",
    "    data = np.array(data)\n",
    "    np.random.shuffle(data)\n",
    "    clabel = []\n",
    "    for i in range(0,data.shape[0]):\n",
    "        if(w0 + np.dot(w.T,data[i].T))> 0:\n",
    "            clabel.append([1.0])\n",
    "        else:\n",
    "            clabel.append([-1.0])\n",
    "    clabel = np.array(clabel)\n",
    "    Kfold = data.shape[0]/10\n",
    "    \n",
    "    testdata = data[-Kfold:,:]\n",
    "    data = data[0:-Kfold,:]\n",
    "    test_lab = clabel[-Kfold:,:]\n",
    "    clabel = clabel[0:-Kfold,:]\n",
    "# Graph Plot for Generated dataset    \n",
    "    xp = []\n",
    "    xn = []\n",
    "    xpo = []\n",
    "    ypo = []\n",
    "    xne = []\n",
    "    yne = []\n",
    "    for i in range(0,clabel.shape[0]):\n",
    "        if clabel[i]>0:\n",
    "            xp.append(data[i])\n",
    "        else:\n",
    "            xn.append(data[i])\n",
    "    for j in range(0,len(xp)-1):\n",
    "        xpo.append(xp[j][0])\n",
    "        ypo.append(xp[j][1])\n",
    "    for k in range(0,len(xn)-1):\n",
    "        xne.append(xn[k][0])\n",
    "        yne.append(xn[k][1])\n",
    "    plt.plot(xne,yne,'ro')\n",
    "    plt.plot(xpo,ypo,'bo'),\n",
    "    plt.xlabel(\"X\")\n",
    "    plt.ylabel(\"Y\")\n",
    "    plt.title(\"Separable Dataset\")\n",
    "    plt.show()\n",
    "    return data,clabel,testdata,test_lab\n",
    "size = 200\n",
    "feature = 2\n",
    "data, clabel,testdata,test_lab = lin_Data(size,feature)"
   ]
  },
  {
   "cell_type": "code",
   "execution_count": 15,
   "metadata": {
    "collapsed": false
   },
   "outputs": [
    {
     "name": "stdout",
     "output_type": "stream",
     "text": [
      "     pcost       dcost       gap    pres   dres\n",
      " 0: -1.7659e+02 -4.1175e+02  2e+02  3e-15  2e+00\n",
      " 1: -3.8284e+02 -3.8794e+02  5e+00  2e-14  1e+00\n",
      " 2: -2.9185e+04 -2.9189e+04  4e+00  1e-12  1e+00\n",
      " 3: -2.0814e+08 -2.0814e+08  1e+03  6e-09  1e+00\n",
      " 4: -2.2416e+08 -2.2416e+08  1e+03  2e-08  1e+00\n",
      "Terminated (singular KKT matrix).\n"
     ]
    }
   ],
   "source": [
    "def alpha_solver(x, y):\n",
    "    W = 0\n",
    "    W0 = 0\n",
    "    var,xshape = x.shape\n",
    "    p = matrix(np.ndarray.tolist(np.dot(y.T,y) * np.dot(x,x.T)))\n",
    "    q = cvxopt.base.matrix([-1.0] * var)\n",
    "    g0 = np.zeros((var, var), float)\n",
    "    np.fill_diagonal(g0, -1.0)\n",
    "    g = matrix(np.ndarray.tolist(g0)).T\n",
    "    h = matrix([0.0] * var)\n",
    "    a = matrix(np.ndarray.tolist(y))\n",
    "    b = matrix(0.0)\n",
    "    Ld = solvers.qp(p,q,g,h,a,b)['x']\n",
    "    alpha_val = matrix(Ld)\n",
    "\n",
    "    support_vector = []\n",
    "    for i in range(len(alpha_val)):\n",
    "        if alpha_val[i] > 0:\n",
    "            support_vector.append(x[i])\n",
    "    support_vector = np.matrix(support_vector)\n",
    "    \n",
    "    for j in range(var):\n",
    "        W += (alpha_val[j] * y[j] * x[j])\n",
    "\n",
    "    for k in range(len(support_vector)):\n",
    "        W0 += (y[k] - np.dot(W,x[k]))\n",
    "    \n",
    "    W0 = W0 / len(support_vector)\n",
    "     \n",
    "    return W0, W, np.array(support_vector)\n",
    "w0, w, s_vector = alpha_solver(data,clabel)"
   ]
  },
  {
   "cell_type": "code",
   "execution_count": 16,
   "metadata": {
    "collapsed": false
   },
   "outputs": [
    {
     "name": "stderr",
     "output_type": "stream",
     "text": [
      "/usr/local/lib/python2.7/dist-packages/sklearn/svm/base.py:514: DataConversionWarning: A column-vector y was passed when a 1d array was expected. Please change the shape of y to (n_samples, ), for example using ravel().\n",
      "  y_ = column_or_1d(y, warn=True)\n"
     ]
    }
   ],
   "source": [
    "def predict_class(w0,w,testdata,test_lab,s_vector):\n",
    "    predict_label = []\n",
    "    true = 0\n",
    "    for i in range(0,testdata.shape[0]):\n",
    "        if(w0 + np.dot(w.T,testdata[i].T))> 0:\n",
    "            predict_label.append([1.0])\n",
    "        else:\n",
    "            predict_label.append([-1.0])\n",
    "    predict_label = np.array(predict_label)\n",
    "#     print predict_label, test_lab\n",
    "    for i in range(0,predict_label.shape[0]):\n",
    "        if (predict_label[i]==test_lab[i]):\n",
    "            true = true+1\n",
    "    \n",
    "    accuracy = float(true)/len(test_lab)\n",
    "# Graph of Predicted class value\n",
    " \n",
    "    xp = []\n",
    "    xn = []\n",
    "    xpo = []\n",
    "    ypo = []\n",
    "    xne = []\n",
    "    yne = []\n",
    "    for i in range(0,predict_label.shape[0]):\n",
    "        if predict_label[i]>0:\n",
    "            xp.append(testdata[i])\n",
    "        else:\n",
    "            xn.append(testdata[i])\n",
    "    for j in range(0,len(xp)-1):\n",
    "        xpo.append(xp[j][0])\n",
    "        ypo.append(xp[j][1])\n",
    "    for k in range(0,len(xn)-1):\n",
    "        xne.append(xn[k][0])\n",
    "        yne.append(xn[k][1])\n",
    "    spo = []\n",
    "    sne= []\n",
    "    \n",
    "    for s in range(0,len(s_vector)-1):\n",
    "        spo.append(s_vector[s][0])\n",
    "        sne.append(s_vector[s][1])\n",
    "    \n",
    "       \n",
    "    testdata = np.array(testdata)\n",
    "    clf = SVC(kernel='linear')\n",
    "    clf.fit(testdata,test_lab)\n",
    "    w = clf.coef_[0]\n",
    "    a = -w[0] / w[1]\n",
    "    xx = np.linspace(-1, 1)\n",
    "    yy = a * xx+ 0.05  - (clf.intercept_[0]) / w[1]\n",
    "    margin = 1 / np.sqrt(np.sum(clf.coef_ ** 2))\n",
    "    yy_down = yy + a * margin \n",
    "    yy_up = yy - a * margin \n",
    "    plt.plot(xx, yy_up, 'k--')\n",
    "    plt.plot(xx, yy, 'k-')\n",
    "    plt.plot(xx,yy_down,'k--')\n",
    "    plt.plot(xne,yne,'ro')\n",
    "    plt.plot(xpo,ypo,'bo')\n",
    "    plt.scatter(spo,sne,c='yellow',marker='D',s=20)\n",
    "    plt.xlabel(\"X\")\n",
    "    plt.ylabel(\"Y\")\n",
    "    plt.title(\"Predicted value graph\")\n",
    "    plt.title(\"Hard Margin Prediction\")\n",
    "    plt.axis(\"tight\")\n",
    "    plt.show()\n",
    "      \n",
    "    return predict_label\n",
    "\n",
    "predict_label = predict_class(w0,w,testdata,test_lab,s_vector)\n",
    "    "
   ]
  },
  {
   "cell_type": "code",
   "execution_count": 17,
   "metadata": {
    "collapsed": false
   },
   "outputs": [
    {
     "name": "stdout",
     "output_type": "stream",
     "text": [
      "[[ 6  0]\n",
      " [ 1 13]]\n"
     ]
    }
   ],
   "source": [
    "def confusion_matrix(testclass,ypredict):\n",
    "    \n",
    "    temp = [-1.0,1.0]\n",
    "    cm= []\n",
    "    for i in temp:\n",
    "        tmp =[0]*len(temp)\n",
    "        for j in range(len(testclass)):\n",
    "            if testclass[j] == i and testclass[j] == ypredict[j]:\n",
    "                tmp[temp.index(i)] += 1\n",
    "            elif testclass[j] == i and testclass[j] != ypredict[j]:\n",
    "                tmp[temp.index(ypredict[j])] += 1\n",
    "        cm.append(tmp)\n",
    "    cm = np.array(cm)\n",
    "    print cm\n",
    "    return cm\n",
    "\n",
    "    \n",
    "cm = confusion_matrix(test_lab,predict_label)"
   ]
  },
  {
   "cell_type": "code",
   "execution_count": 18,
   "metadata": {
    "collapsed": false
   },
   "outputs": [
    {
     "name": "stdout",
     "output_type": "stream",
     "text": [
      " Confusion Matrix:[6 0]\n",
      "\t\t  [ 1 13]\n",
      "         Precesion:   Recall:    F-1 Measures\n",
      "Class-1: 0.857       1.0         0.923\n",
      "Class 1: 1.0        0.929        0.963\n",
      "\n",
      "Accuracy: 95.0%\n"
     ]
    }
   ],
   "source": [
    "def precisionCall(cm,testclass):\n",
    "    precesion = np.zeros(2)\n",
    "    recall = np.zeros(2)\n",
    "    f1measure = np.zeros(2)\n",
    "    accuracy = 0\n",
    "    for i in range(0,2):\n",
    "        for j in range(0,2):\n",
    "            precesion[i] += cm[j][i]\n",
    "            recall[i] += cm[i][j]\n",
    "            if(i==j):\n",
    "                accuracy = accuracy + cm[i][j]\n",
    "        precesion[i] = cm[i][i]/precesion[i]\n",
    "        recall[i] = cm[i][i]/recall[i]\n",
    "        f1measure[i] = ((2*precesion[i]*recall[i])/(precesion[i]+recall[i]))\n",
    "    accuracy = float(accuracy)/testclass.shape[0]\n",
    "    print \" Confusion Matrix:\"+ str(cm[0])\n",
    "    print \"\\t\\t  \"+ str(cm[1])\n",
    "    print \"         Precesion:   Recall:    F-1 Measures\"\n",
    "    print \"Class-1: \" + str(round(precesion[0],3))+\"       \"+str(round(recall[0],3))+\"         \"+str(round(f1measure[0],3))\n",
    "    print \"Class 1: \" + str(round(precesion[1],3))+\"        \"+str(round(recall[1],3))+\"        \"+str(round(f1measure[1],3))\n",
    "    print \"\\nAccuracy: \"+str(round(accuracy,3)*100)+\"%\"\n",
    "    return accuracy,precesion,recall,f1measure\n",
    "\n",
    "\n",
    "    \n",
    "accuracy,precesion,recall,f1measure = precisionCall(cm,test_lab)"
   ]
  }
 ],
 "metadata": {
  "kernelspec": {
   "display_name": "Python 2",
   "language": "python",
   "name": "python2"
  },
  "language_info": {
   "codemirror_mode": {
    "name": "ipython",
    "version": 2
   },
   "file_extension": ".py",
   "mimetype": "text/x-python",
   "name": "python",
   "nbconvert_exporter": "python",
   "pygments_lexer": "ipython2",
   "version": "2.7.6"
  }
 },
 "nbformat": 4,
 "nbformat_minor": 0
}
